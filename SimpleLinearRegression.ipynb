{
 "cells": [
  {
   "cell_type": "markdown",
   "id": "ccd45753",
   "metadata": {},
   "source": [
    "                                                         Placement"
   ]
  },
  {
   "cell_type": "markdown",
   "id": "0031d118",
   "metadata": {},
   "source": [
    "# Linear Regression"
   ]
  },
  {
   "cell_type": "markdown",
   "id": "ee22def2",
   "metadata": {},
   "source": [
    "Roll No: 2248014 "
   ]
  },
  {
   "cell_type": "markdown",
   "id": "63e06630",
   "metadata": {},
   "source": [
    "Subject: Regression Analysis"
   ]
  },
  {
   "cell_type": "markdown",
   "id": "183d62bc",
   "metadata": {},
   "source": [
    "Date: 05-02-2023"
   ]
  },
  {
   "cell_type": "markdown",
   "id": "7d47b7c8",
   "metadata": {},
   "source": [
    "\n",
    "My Topic is about the Placement cell regarding cgpa and package. Here, my problem is to find or differentitate the cgpa and package inorder to get an clear idea."
   ]
  },
  {
   "cell_type": "markdown",
   "id": "0d1f885a",
   "metadata": {},
   "source": [
    "# 1. Simple Linear Regression\n",
    "\n",
    "The linear regression model is a classical Supervised learning Algorithm. It is a type of regression analysis where the number of independent variables is one and there is a linear relationship between the independent(x) and dependent(y) variable."
   ]
  },
  {
   "cell_type": "markdown",
   "id": "30c665c0",
   "metadata": {},
   "source": [
    "# 1.1 Objective\n",
    "\n",
    "To predict quantitative variable (Output) for the given set of independent variables (regressor or inputs)."
   ]
  },
  {
   "cell_type": "markdown",
   "id": "3f5186be",
   "metadata": {},
   "source": [
    "# 1.2 Preparation"
   ]
  },
  {
   "cell_type": "markdown",
   "id": "64828ae2",
   "metadata": {},
   "source": [
    "# 1.2.1 Importing Data\n",
    "\n",
    "The pandas and numpy packages are loaded to deal with the data."
   ]
  },
  {
   "cell_type": "code",
   "execution_count": 65,
   "id": "27a39001",
   "metadata": {},
   "outputs": [],
   "source": [
    "import pandas as pd\n",
    "import numpy as np"
   ]
  },
  {
   "cell_type": "code",
   "execution_count": 66,
   "id": "e89baaf2",
   "metadata": {},
   "outputs": [],
   "source": [
    "data=pd.read_csv(\"D:\\\\placement.csv\")"
   ]
  },
  {
   "cell_type": "code",
   "execution_count": 67,
   "id": "b51efed2",
   "metadata": {},
   "outputs": [
    {
     "data": {
      "text/html": [
       "<div>\n",
       "<style scoped>\n",
       "    .dataframe tbody tr th:only-of-type {\n",
       "        vertical-align: middle;\n",
       "    }\n",
       "\n",
       "    .dataframe tbody tr th {\n",
       "        vertical-align: top;\n",
       "    }\n",
       "\n",
       "    .dataframe thead th {\n",
       "        text-align: right;\n",
       "    }\n",
       "</style>\n",
       "<table border=\"1\" class=\"dataframe\">\n",
       "  <thead>\n",
       "    <tr style=\"text-align: right;\">\n",
       "      <th></th>\n",
       "      <th>cgpa</th>\n",
       "      <th>package</th>\n",
       "    </tr>\n",
       "  </thead>\n",
       "  <tbody>\n",
       "    <tr>\n",
       "      <th>0</th>\n",
       "      <td>6.89</td>\n",
       "      <td>3.26</td>\n",
       "    </tr>\n",
       "    <tr>\n",
       "      <th>1</th>\n",
       "      <td>5.12</td>\n",
       "      <td>1.98</td>\n",
       "    </tr>\n",
       "    <tr>\n",
       "      <th>2</th>\n",
       "      <td>7.82</td>\n",
       "      <td>3.25</td>\n",
       "    </tr>\n",
       "    <tr>\n",
       "      <th>3</th>\n",
       "      <td>7.42</td>\n",
       "      <td>3.67</td>\n",
       "    </tr>\n",
       "    <tr>\n",
       "      <th>4</th>\n",
       "      <td>6.94</td>\n",
       "      <td>3.57</td>\n",
       "    </tr>\n",
       "    <tr>\n",
       "      <th>...</th>\n",
       "      <td>...</td>\n",
       "      <td>...</td>\n",
       "    </tr>\n",
       "    <tr>\n",
       "      <th>195</th>\n",
       "      <td>6.93</td>\n",
       "      <td>2.46</td>\n",
       "    </tr>\n",
       "    <tr>\n",
       "      <th>196</th>\n",
       "      <td>5.89</td>\n",
       "      <td>2.57</td>\n",
       "    </tr>\n",
       "    <tr>\n",
       "      <th>197</th>\n",
       "      <td>7.21</td>\n",
       "      <td>3.24</td>\n",
       "    </tr>\n",
       "    <tr>\n",
       "      <th>198</th>\n",
       "      <td>7.63</td>\n",
       "      <td>3.96</td>\n",
       "    </tr>\n",
       "    <tr>\n",
       "      <th>199</th>\n",
       "      <td>6.22</td>\n",
       "      <td>2.33</td>\n",
       "    </tr>\n",
       "  </tbody>\n",
       "</table>\n",
       "<p>200 rows × 2 columns</p>\n",
       "</div>"
      ],
      "text/plain": [
       "     cgpa  package\n",
       "0    6.89     3.26\n",
       "1    5.12     1.98\n",
       "2    7.82     3.25\n",
       "3    7.42     3.67\n",
       "4    6.94     3.57\n",
       "..    ...      ...\n",
       "195  6.93     2.46\n",
       "196  5.89     2.57\n",
       "197  7.21     3.24\n",
       "198  7.63     3.96\n",
       "199  6.22     2.33\n",
       "\n",
       "[200 rows x 2 columns]"
      ]
     },
     "execution_count": 67,
     "metadata": {},
     "output_type": "execute_result"
    }
   ],
   "source": [
    "data #viewing data set"
   ]
  },
  {
   "cell_type": "markdown",
   "id": "36ab0ce0",
   "metadata": {},
   "source": [
    "# Exploratory Data Analysis\n",
    "\n",
    "The EDA is performed to understand the data well. This stage examines the patterns, dispersion, distribution, etc. of the data."
   ]
  },
  {
   "cell_type": "code",
   "execution_count": 68,
   "id": "db776bf3",
   "metadata": {},
   "outputs": [
    {
     "data": {
      "text/plain": [
       "(200, 2)"
      ]
     },
     "execution_count": 68,
     "metadata": {},
     "output_type": "execute_result"
    }
   ],
   "source": [
    "data.shape #prints the dimensions of the dataframe"
   ]
  },
  {
   "cell_type": "code",
   "execution_count": 69,
   "id": "317f7845",
   "metadata": {},
   "outputs": [
    {
     "name": "stdout",
     "output_type": "stream",
     "text": [
      "<class 'pandas.core.frame.DataFrame'>\n",
      "RangeIndex: 200 entries, 0 to 199\n",
      "Data columns (total 2 columns):\n",
      " #   Column   Non-Null Count  Dtype  \n",
      "---  ------   --------------  -----  \n",
      " 0   cgpa     200 non-null    float64\n",
      " 1   package  200 non-null    float64\n",
      "dtypes: float64(2)\n",
      "memory usage: 3.2 KB\n"
     ]
    }
   ],
   "source": [
    "data.info()"
   ]
  },
  {
   "cell_type": "markdown",
   "id": "fa582412",
   "metadata": {},
   "source": [
    "info() function, it gives information about our entire dataset. It is useful to identify the null values, Dtype (Datatypes), memory usage, Columns etc."
   ]
  },
  {
   "cell_type": "code",
   "execution_count": 70,
   "id": "1b0bd2c9",
   "metadata": {},
   "outputs": [
    {
     "data": {
      "text/html": [
       "<div>\n",
       "<style scoped>\n",
       "    .dataframe tbody tr th:only-of-type {\n",
       "        vertical-align: middle;\n",
       "    }\n",
       "\n",
       "    .dataframe tbody tr th {\n",
       "        vertical-align: top;\n",
       "    }\n",
       "\n",
       "    .dataframe thead th {\n",
       "        text-align: right;\n",
       "    }\n",
       "</style>\n",
       "<table border=\"1\" class=\"dataframe\">\n",
       "  <thead>\n",
       "    <tr style=\"text-align: right;\">\n",
       "      <th></th>\n",
       "      <th>cgpa</th>\n",
       "      <th>package</th>\n",
       "    </tr>\n",
       "  </thead>\n",
       "  <tbody>\n",
       "    <tr>\n",
       "      <th>count</th>\n",
       "      <td>200.000000</td>\n",
       "      <td>200.000000</td>\n",
       "    </tr>\n",
       "    <tr>\n",
       "      <th>mean</th>\n",
       "      <td>6.990500</td>\n",
       "      <td>2.996050</td>\n",
       "    </tr>\n",
       "    <tr>\n",
       "      <th>std</th>\n",
       "      <td>1.069409</td>\n",
       "      <td>0.691644</td>\n",
       "    </tr>\n",
       "    <tr>\n",
       "      <th>min</th>\n",
       "      <td>4.260000</td>\n",
       "      <td>1.370000</td>\n",
       "    </tr>\n",
       "    <tr>\n",
       "      <th>25%</th>\n",
       "      <td>6.190000</td>\n",
       "      <td>2.487500</td>\n",
       "    </tr>\n",
       "    <tr>\n",
       "      <th>50%</th>\n",
       "      <td>6.965000</td>\n",
       "      <td>2.995000</td>\n",
       "    </tr>\n",
       "    <tr>\n",
       "      <th>75%</th>\n",
       "      <td>7.737500</td>\n",
       "      <td>3.492500</td>\n",
       "    </tr>\n",
       "    <tr>\n",
       "      <th>max</th>\n",
       "      <td>9.580000</td>\n",
       "      <td>4.620000</td>\n",
       "    </tr>\n",
       "  </tbody>\n",
       "</table>\n",
       "</div>"
      ],
      "text/plain": [
       "             cgpa     package\n",
       "count  200.000000  200.000000\n",
       "mean     6.990500    2.996050\n",
       "std      1.069409    0.691644\n",
       "min      4.260000    1.370000\n",
       "25%      6.190000    2.487500\n",
       "50%      6.965000    2.995000\n",
       "75%      7.737500    3.492500\n",
       "max      9.580000    4.620000"
      ]
     },
     "execution_count": 70,
     "metadata": {},
     "output_type": "execute_result"
    }
   ],
   "source": [
    "data.describe()"
   ]
  },
  {
   "cell_type": "markdown",
   "id": "d1efaf97",
   "metadata": {},
   "source": [
    "The descriptive measure are obtained using describe() function.\n",
    "\n",
    "Initially a simplle linear regression model is built and in this regard, cgpa can be taken as independent variable (x) and package as dependent variable (y). \n",
    "\n",
    "The model is Y = β0 + β1X + ε"
   ]
  },
  {
   "cell_type": "code",
   "execution_count": 71,
   "id": "593874f7",
   "metadata": {},
   "outputs": [],
   "source": [
    "x=data[\"cgpa\"]\n",
    "y=data[\"package\"]"
   ]
  },
  {
   "cell_type": "markdown",
   "id": "9d4ed7e1",
   "metadata": {},
   "source": [
    "Next, the data visualisations can be used to understand more about the data. seaborn and matplotlib libraries can be used to visualise data"
   ]
  },
  {
   "cell_type": "code",
   "execution_count": 72,
   "id": "b5051f59",
   "metadata": {},
   "outputs": [],
   "source": [
    "import matplotlib.pyplot as plt\n",
    "import seaborn as sns"
   ]
  },
  {
   "cell_type": "markdown",
   "id": "f3bace77",
   "metadata": {},
   "source": [
    "Visualizing the data with a histogram plot for package & cgpa"
   ]
  },
  {
   "cell_type": "code",
   "execution_count": 73,
   "id": "8ce39e02",
   "metadata": {},
   "outputs": [
    {
     "data": {
      "text/plain": [
       "(array([ 7.,  9., 21., 29., 34., 34., 28., 18., 15.,  5.]),\n",
       " array([1.37 , 1.695, 2.02 , 2.345, 2.67 , 2.995, 3.32 , 3.645, 3.97 ,\n",
       "        4.295, 4.62 ]),\n",
       " <BarContainer object of 10 artists>)"
      ]
     },
     "execution_count": 73,
     "metadata": {},
     "output_type": "execute_result"
    },
    {
     "data": {
      "image/png": "[encoded data removed]",
      "text/plain": [
       "<Figure size 432x288 with 1 Axes>"
      ]
     },
     "metadata": {
      "needs_background": "light"
     },
     "output_type": "display_data"
    }
   ],
   "source": [
    "plt.hist(data['package'],bins=10, color='blue')"
   ]
  },
  {
   "cell_type": "code",
   "execution_count": 74,
   "id": "ffd31b1b",
   "metadata": {},
   "outputs": [
    {
     "data": {
      "text/plain": [
       "(array([ 4.,  9., 16., 34., 27., 47., 28., 18., 11.,  6.]),\n",
       " array([4.26 , 4.792, 5.324, 5.856, 6.388, 6.92 , 7.452, 7.984, 8.516,\n",
       "        9.048, 9.58 ]),\n",
       " <BarContainer object of 10 artists>)"
      ]
     },
     "execution_count": 74,
     "metadata": {},
     "output_type": "execute_result"
    },
    {
     "data": {
      "image/png": "[encoded data removed]",
      "text/plain": [
       "<Figure size 432x288 with 1 Axes>"
      ]
     },
     "metadata": {
      "needs_background": "light"
     },
     "output_type": "display_data"
    }
   ],
   "source": [
    "plt.hist(data['cgpa'],bins=10, color='blue')"
   ]
  },
  {
   "cell_type": "markdown",
   "id": "d2b102c0",
   "metadata": {},
   "source": [
    "# Distribution plot for package"
   ]
  },
  {
   "cell_type": "code",
   "execution_count": 75,
   "id": "af41394b",
   "metadata": {},
   "outputs": [
    {
     "name": "stderr",
     "output_type": "stream",
     "text": [
      "C:\\Users\\Ragunathan E S\\anaconda3\\lib\\site-packages\\seaborn\\distributions.py:2619: FutureWarning: `distplot` is a deprecated function and will be removed in a future version. Please adapt your code to use either `displot` (a figure-level function with similar flexibility) or `histplot` (an axes-level function for histograms).\n",
      "  warnings.warn(msg, FutureWarning)\n"
     ]
    },
    {
     "data": {
      "text/plain": [
       "<AxesSubplot:xlabel='package', ylabel='Density'>"
      ]
     },
     "execution_count": 75,
     "metadata": {},
     "output_type": "execute_result"
    },
    {
     "data": {
      "image/png": "[encoded data removed]",
      "text/plain": [
       "<Figure size 432x288 with 1 Axes>"
      ]
     },
     "metadata": {
      "needs_background": "light"
     },
     "output_type": "display_data"
    }
   ],
   "source": [
    "sns.distplot(data['package'], bins=30)"
   ]
  },
  {
   "cell_type": "markdown",
   "id": "8c348e33",
   "metadata": {},
   "source": [
    "# Distribution plot for cgpa"
   ]
  },
  {
   "cell_type": "code",
   "execution_count": 76,
   "id": "8ff557d1",
   "metadata": {},
   "outputs": [
    {
     "name": "stderr",
     "output_type": "stream",
     "text": [
      "C:\\Users\\Ragunathan E S\\anaconda3\\lib\\site-packages\\seaborn\\distributions.py:2619: FutureWarning: `distplot` is a deprecated function and will be removed in a future version. Please adapt your code to use either `displot` (a figure-level function with similar flexibility) or `histplot` (an axes-level function for histograms).\n",
      "  warnings.warn(msg, FutureWarning)\n"
     ]
    },
    {
     "data": {
      "text/plain": [
       "<AxesSubplot:xlabel='cgpa', ylabel='Density'>"
      ]
     },
     "execution_count": 76,
     "metadata": {},
     "output_type": "execute_result"
    },
    {
     "data": {
      "image/png": "[encoded data removed]",
      "text/plain": [
       "<Figure size 432x288 with 1 Axes>"
      ]
     },
     "metadata": {
      "needs_background": "light"
     },
     "output_type": "display_data"
    }
   ],
   "source": [
    "sns.distplot(data['cgpa'], bins=30)"
   ]
  },
  {
   "cell_type": "markdown",
   "id": "1dc36a3f",
   "metadata": {},
   "source": [
    "We can use histogram or distplot (distribution plot) to identify whether it is normally distributed or not."
   ]
  },
  {
   "cell_type": "markdown",
   "id": "39aa9dad",
   "metadata": {},
   "source": [
    "# We also use Shapiro-wilk test to check whether it is normality?"
   ]
  },
  {
   "cell_type": "code",
   "execution_count": 77,
   "id": "8ab0c460",
   "metadata": {},
   "outputs": [],
   "source": [
    "from scipy.stats import shapiro"
   ]
  },
  {
   "cell_type": "code",
   "execution_count": 78,
   "id": "f4aa1779",
   "metadata": {},
   "outputs": [
    {
     "data": {
      "text/plain": [
       "ShapiroResult(statistic=0.9226064682006836, pvalue=1.6845245088149136e-13)"
      ]
     },
     "execution_count": 78,
     "metadata": {},
     "output_type": "execute_result"
    }
   ],
   "source": [
    "shapiro(data)"
   ]
  },
  {
   "cell_type": "markdown",
   "id": "02661761",
   "metadata": {},
   "source": [
    "From the output we can see that the test statistic is 0.9226 and the corresponding p-value is 1.6845. Accept Null hupothesis p-value > .05 & Normal distribution.\n",
    "\n",
    "Since, the p-value is less than .05, we reject the null hypothesis of the Shapiro-Wilk test.\n",
    "This means we have sufficient evidence to say that the sample data does not come from a normal distribution."
   ]
  },
  {
   "cell_type": "markdown",
   "id": "5d871a58",
   "metadata": {},
   "source": [
    "# Scatter plot"
   ]
  },
  {
   "cell_type": "code",
   "execution_count": 79,
   "id": "473118af",
   "metadata": {},
   "outputs": [
    {
     "data": {
      "image/png": "[encoded data removed]",
      "text/plain": [
       "<Figure size 432x288 with 1 Axes>"
      ]
     },
     "metadata": {
      "needs_background": "light"
     },
     "output_type": "display_data"
    }
   ],
   "source": [
    "#visualizing the data with a scatter plot\n",
    "\n",
    "data2 = data\n",
    "\n",
    "x = data2['cgpa']\n",
    "y = data2['package']\n",
    "plt.scatter(x, y, color = 'red')\n",
    "plt.xlabel(\"cgpa\")\n",
    "plt.ylabel(\"package(in Lpa)\")\n",
    "plt.title(\"cgpa vs package(in Lpa)\",color=\"blue\")\n",
    "plt.show()"
   ]
  },
  {
   "cell_type": "markdown",
   "id": "87b9f778",
   "metadata": {},
   "source": [
    "Scatter plot, is used to visualize how much our data is scattered."
   ]
  },
  {
   "cell_type": "markdown",
   "id": "3820f902",
   "metadata": {},
   "source": [
    "# Box plot"
   ]
  },
  {
   "cell_type": "code",
   "execution_count": 80,
   "id": "8fd024c5",
   "metadata": {},
   "outputs": [
    {
     "data": {
      "image/png": "[encoded data removed]",
      "text/plain": [
       "<Figure size 432x288 with 1 Axes>"
      ]
     },
     "metadata": {
      "needs_background": "light"
     },
     "output_type": "display_data"
    }
   ],
   "source": [
    "# visualizing the data with a box plot\n",
    "\n",
    "data1 = [data['cgpa'], data['package']]\n",
    "plt.boxplot(data1, labels=['cgpa','package'])\n",
    "plt.show()"
   ]
  },
  {
   "cell_type": "markdown",
   "id": "388ad309",
   "metadata": {},
   "source": [
    "While using box plot, we can easily identify the outliers as well as the mean of cgpa and package. Here, there is no outliers so we are proceeding further."
   ]
  },
  {
   "cell_type": "markdown",
   "id": "91976bba",
   "metadata": {},
   "source": [
    "# Creating train and test data"
   ]
  },
  {
   "cell_type": "markdown",
   "id": "2e35637c",
   "metadata": {},
   "source": [
    "We need to split our data into training and testing sets. Using the training set, we’ll build the\n",
    "model and perform the model on the testing set. We’ll divide the training and testing sets into\n",
    "a 80% and 20% ratio, respectively. We’ll split the data by importing train_test_split from the\n",
    "sklearn.model_selection library. train_test_split is a function for splitting data arrays into two\n",
    "subsets: for training data and for testing data. With this function, you don’t need to divide the\n",
    "dataset manually.\n",
    "\n",
    "By default, Sklearn train_test_split will make random partitions for the two subsets. However,\n",
    "you can also specify a random state for the operation. The following parameters (arguments) are\n",
    "included in the train_test_split function. x, y The first parameter is the dataset you’re selecting to\n",
    "use. train_size This parameter sets the size of the training dataset. There are three options: None,\n",
    "which is the default, Int, which requires the exact number of samples, and float, which ranges from\n",
    "0.1 to 1.0. test_size This parameter specifies the size of the testing dataset. The default state suits\n",
    "the training size. It will be set to 0.25 if the training size is set to default. random_state This\n",
    "parameter sets the seed for random split and ensures same split is reproducible."
   ]
  },
  {
   "cell_type": "code",
   "execution_count": 81,
   "id": "8a8493a5",
   "metadata": {},
   "outputs": [],
   "source": [
    "from sklearn.model_selection import train_test_split"
   ]
  },
  {
   "cell_type": "code",
   "execution_count": 82,
   "id": "fbfd74f6",
   "metadata": {},
   "outputs": [],
   "source": [
    "x_train,x_test,y_train,y_test=train_test_split(x, y, train_size = 0.8,test_size = 0.2, random_state = 10)"
   ]
  },
  {
   "cell_type": "markdown",
   "id": "72cf6002",
   "metadata": {},
   "source": [
    "random_state = np.random can be used for making random sets"
   ]
  },
  {
   "cell_type": "code",
   "execution_count": 83,
   "id": "6f2bccee",
   "metadata": {},
   "outputs": [
    {
     "data": {
      "text/plain": [
       "190    6.19\n",
       "7      6.75\n",
       "26     8.31\n",
       "138    7.91\n",
       "58     6.92\n",
       "       ... \n",
       "113    6.94\n",
       "64     7.36\n",
       "15     7.25\n",
       "125    7.33\n",
       "9      8.31\n",
       "Name: cgpa, Length: 160, dtype: float64"
      ]
     },
     "execution_count": 83,
     "metadata": {},
     "output_type": "execute_result"
    }
   ],
   "source": [
    "x_train"
   ]
  },
  {
   "cell_type": "code",
   "execution_count": 84,
   "id": "25b7a245",
   "metadata": {},
   "outputs": [
    {
     "data": {
      "text/plain": [
       "190    2.69\n",
       "7      2.48\n",
       "26     3.42\n",
       "138    3.89\n",
       "58     3.09\n",
       "       ... \n",
       "113    2.37\n",
       "64     2.92\n",
       "15     3.23\n",
       "125    3.16\n",
       "9      3.51\n",
       "Name: package, Length: 160, dtype: float64"
      ]
     },
     "execution_count": 84,
     "metadata": {},
     "output_type": "execute_result"
    }
   ],
   "source": [
    "y_train"
   ]
  },
  {
   "cell_type": "markdown",
   "id": "74a63387",
   "metadata": {},
   "source": [
    "# Building the model\n",
    "\n",
    "There are many libraries to build the linear regression model in python. . sklearn . statsmodels\n",
    ". tensorflow In this session, we will use statsmodels.api library from statsmodels package to build\n",
    "the linear regression model.By default, the statsmodels library fits a line that passes through the\n",
    "origin. But if we observe the simple linear regression equation Y = β0 + β1X, it has an intercept\n",
    "value as β0. So, to have an intercept, we need to add the add_constant attribute manually."
   ]
  },
  {
   "cell_type": "code",
   "execution_count": 85,
   "id": "50a8a3a3",
   "metadata": {},
   "outputs": [],
   "source": [
    "import statsmodels.api as lm"
   ]
  },
  {
   "cell_type": "code",
   "execution_count": 86,
   "id": "a8485d68",
   "metadata": {},
   "outputs": [],
   "source": [
    "x_train_lm=lm.add_constant(x_train)"
   ]
  },
  {
   "cell_type": "markdown",
   "id": "d917a11f",
   "metadata": {},
   "source": [
    "Next, we can build the linear regression model using OLS (Ordinary Least Square) present in the statsmodels.api."
   ]
  },
  {
   "cell_type": "code",
   "execution_count": 87,
   "id": "12c300b3",
   "metadata": {},
   "outputs": [],
   "source": [
    "model=lm.OLS(y_train,x_train_lm).fit()"
   ]
  },
  {
   "cell_type": "code",
   "execution_count": 88,
   "id": "dd4c9b88",
   "metadata": {},
   "outputs": [
    {
     "data": {
      "text/plain": [
       "const   -0.932969\n",
       "cgpa     0.562394\n",
       "dtype: float64"
      ]
     },
     "execution_count": 88,
     "metadata": {},
     "output_type": "execute_result"
    }
   ],
   "source": [
    "model.params #To print parameter estimates"
   ]
  },
  {
   "cell_type": "markdown",
   "id": "19b2ed67",
   "metadata": {},
   "source": [
    "The summary of the model is obtained by summary() function. From the summary table, important metrics such as adjusted R-squared, F-statistic & p-value and Durbin-Watson Statistic are observed."
   ]
  },
  {
   "cell_type": "code",
   "execution_count": 89,
   "id": "e0a5e5ed",
   "metadata": {},
   "outputs": [
    {
     "data": {
      "text/html": [
       "<table class=\"simpletable\">\n",
       "<caption>OLS Regression Results</caption>\n",
       "<tr>\n",
       "  <th>Dep. Variable:</th>         <td>package</td>     <th>  R-squared:         </th> <td>   0.778</td>\n",
       "</tr>\n",
       "<tr>\n",
       "  <th>Model:</th>                   <td>OLS</td>       <th>  Adj. R-squared:    </th> <td>   0.776</td>\n",
       "</tr>\n",
       "<tr>\n",
       "  <th>Method:</th>             <td>Least Squares</td>  <th>  F-statistic:       </th> <td>   552.4</td>\n",
       "</tr>\n",
       "<tr>\n",
       "  <th>Date:</th>             <td>Sun, 05 Feb 2023</td> <th>  Prob (F-statistic):</th> <td>1.90e-53</td>\n",
       "</tr>\n",
       "<tr>\n",
       "  <th>Time:</th>                 <td>23:14:22</td>     <th>  Log-Likelihood:    </th> <td> -44.865</td>\n",
       "</tr>\n",
       "<tr>\n",
       "  <th>No. Observations:</th>      <td>   160</td>      <th>  AIC:               </th> <td>   93.73</td>\n",
       "</tr>\n",
       "<tr>\n",
       "  <th>Df Residuals:</th>          <td>   158</td>      <th>  BIC:               </th> <td>   99.88</td>\n",
       "</tr>\n",
       "<tr>\n",
       "  <th>Df Model:</th>              <td>     1</td>      <th>                     </th>     <td> </td>   \n",
       "</tr>\n",
       "<tr>\n",
       "  <th>Covariance Type:</th>      <td>nonrobust</td>    <th>                     </th>     <td> </td>   \n",
       "</tr>\n",
       "</table>\n",
       "<table class=\"simpletable\">\n",
       "<tr>\n",
       "    <td></td>       <th>coef</th>     <th>std err</th>      <th>t</th>      <th>P>|t|</th>  <th>[0.025</th>    <th>0.975]</th>  \n",
       "</tr>\n",
       "<tr>\n",
       "  <th>const</th> <td>   -0.9330</td> <td>    0.169</td> <td>   -5.514</td> <td> 0.000</td> <td>   -1.267</td> <td>   -0.599</td>\n",
       "</tr>\n",
       "<tr>\n",
       "  <th>cgpa</th>  <td>    0.5624</td> <td>    0.024</td> <td>   23.504</td> <td> 0.000</td> <td>    0.515</td> <td>    0.610</td>\n",
       "</tr>\n",
       "</table>\n",
       "<table class=\"simpletable\">\n",
       "<tr>\n",
       "  <th>Omnibus:</th>       <td> 1.401</td> <th>  Durbin-Watson:     </th> <td>   2.488</td>\n",
       "</tr>\n",
       "<tr>\n",
       "  <th>Prob(Omnibus):</th> <td> 0.496</td> <th>  Jarque-Bera (JB):  </th> <td>   1.428</td>\n",
       "</tr>\n",
       "<tr>\n",
       "  <th>Skew:</th>          <td>-0.155</td> <th>  Prob(JB):          </th> <td>   0.490</td>\n",
       "</tr>\n",
       "<tr>\n",
       "  <th>Kurtosis:</th>      <td> 2.656</td> <th>  Cond. No.          </th> <td>    47.9</td>\n",
       "</tr>\n",
       "</table><br/><br/>Notes:<br/>[1] Standard Errors assume that the covariance matrix of the errors is correctly specified."
      ],
      "text/plain": [
       "<class 'statsmodels.iolib.summary.Summary'>\n",
       "\"\"\"\n",
       "                            OLS Regression Results                            \n",
       "==============================================================================\n",
       "Dep. Variable:                package   R-squared:                       0.778\n",
       "Model:                            OLS   Adj. R-squared:                  0.776\n",
       "Method:                 Least Squares   F-statistic:                     552.4\n",
       "Date:                Sun, 05 Feb 2023   Prob (F-statistic):           1.90e-53\n",
       "Time:                        23:14:22   Log-Likelihood:                -44.865\n",
       "No. Observations:                 160   AIC:                             93.73\n",
       "Df Residuals:                     158   BIC:                             99.88\n",
       "Df Model:                           1                                         \n",
       "Covariance Type:            nonrobust                                         \n",
       "==============================================================================\n",
       "                 coef    std err          t      P>|t|      [0.025      0.975]\n",
       "------------------------------------------------------------------------------\n",
       "const         -0.9330      0.169     -5.514      0.000      -1.267      -0.599\n",
       "cgpa           0.5624      0.024     23.504      0.000       0.515       0.610\n",
       "==============================================================================\n",
       "Omnibus:                        1.401   Durbin-Watson:                   2.488\n",
       "Prob(Omnibus):                  0.496   Jarque-Bera (JB):                1.428\n",
       "Skew:                          -0.155   Prob(JB):                        0.490\n",
       "Kurtosis:                       2.656   Cond. No.                         47.9\n",
       "==============================================================================\n",
       "\n",
       "Notes:\n",
       "[1] Standard Errors assume that the covariance matrix of the errors is correctly specified.\n",
       "\"\"\""
      ]
     },
     "execution_count": 89,
     "metadata": {},
     "output_type": "execute_result"
    }
   ],
   "source": [
    "model.summary()"
   ]
  },
  {
   "cell_type": "markdown",
   "id": "f3b0fce7",
   "metadata": {},
   "source": [
    "An R-squared result of 70 to 100 indicates that the model explains the ouput well.Here, adjusted\n",
    "R-squared value is 0.776, which means that 77.6% of the Package variance can be explained by the\n",
    "cgpa column using this line. p-value for F statistics is less than significance level of 0.05 and it is\n",
    "concluded that regression coefficents are significant (not equal to zero). Durbin-Watson test is to\n",
    "check the autocorrelation (correlation of error terms). No autocorrelation is implied by a value of\n",
    "2, below 2 is positive correlation and above 2 is negative correlation. Usually 1.5 to 2.5 is taken as\n",
    "a safe choice."
   ]
  },
  {
   "cell_type": "markdown",
   "id": "4e043f92",
   "metadata": {},
   "source": [
    "# Visualising the fitted line to train data set"
   ]
  },
  {
   "cell_type": "code",
   "execution_count": 90,
   "id": "e363eb8d",
   "metadata": {},
   "outputs": [],
   "source": [
    "import matplotlib.pyplot as plt"
   ]
  },
  {
   "cell_type": "code",
   "execution_count": 91,
   "id": "6ae49686",
   "metadata": {},
   "outputs": [
    {
     "data": {
      "image/png": "[encoded data removed]",
      "text/plain": [
       "<Figure size 432x288 with 1 Axes>"
      ]
     },
     "metadata": {
      "needs_background": "light"
     },
     "output_type": "display_data"
    }
   ],
   "source": [
    "plt.scatter(x_train, y_train)\n",
    "plt.plot(x_train, -0.9329 + 0.5623*x_train, 'r')\n",
    "plt.show()"
   ]
  },
  {
   "cell_type": "markdown",
   "id": "0d80889c",
   "metadata": {},
   "source": [
    "The redline is the fitted regression line (package = -0.9330 + 0.5624cgpa ) for training data."
   ]
  },
  {
   "cell_type": "markdown",
   "id": "c57c41fe",
   "metadata": {},
   "source": [
    "# Prediction using test data set"
   ]
  },
  {
   "cell_type": "code",
   "execution_count": 92,
   "id": "c2b3d437",
   "metadata": {},
   "outputs": [
    {
     "data": {
      "text/plain": [
       "59     3.318733\n",
       "5      3.504323\n",
       "20     3.161262\n",
       "198    3.358101\n",
       "52     3.774272\n",
       "19     3.273741\n",
       "162    2.177072\n",
       "55     3.678665\n",
       "69     3.172510\n",
       "2      3.464955\n",
       "98     3.391844\n",
       "10     2.058969\n",
       "75     2.986920\n",
       "142    2.964424\n",
       "124    2.475141\n",
       "63     4.218564\n",
       "109    3.436836\n",
       "78     2.773210\n",
       "111    2.115209\n",
       "185    2.615740\n",
       "154    3.048784\n",
       "130    2.823826\n",
       "61     2.148952\n",
       "87     3.616802\n",
       "102    1.952114\n",
       "121    2.722595\n",
       "136    2.238935\n",
       "1      1.946490\n",
       "47     2.351414\n",
       "172    2.964424\n",
       "159    3.965487\n",
       "39     3.245622\n",
       "76     2.970048\n",
       "91     2.565124\n",
       "35     2.930681\n",
       "178    3.650546\n",
       "127    2.880065\n",
       "169    4.302923\n",
       "46     2.480765\n",
       "174    3.183758\n",
       "dtype: float64"
      ]
     },
     "execution_count": 92,
     "metadata": {},
     "output_type": "execute_result"
    }
   ],
   "source": [
    "x_test_lm = lm.add_constant(x_test)\n",
    "y_test_pred = model.predict(x_test_lm)\n",
    "y_test_pred"
   ]
  },
  {
   "cell_type": "markdown",
   "id": "446b6f02",
   "metadata": {},
   "source": [
    "# R2_score\n",
    "Coefficient of determination also called as R2 score is used to evaluate the performance of a linear regression model. It is the amount of the variation in the output dependent attribute which is predictable from the input independent variable(s). It is used to check how well-observed results are reproduced by the model, depending on the ratio of total deviation of results described by the model.\n",
    "\n",
    "                                         R2= 1- SSres / SStot"
   ]
  },
  {
   "cell_type": "code",
   "execution_count": 93,
   "id": "48d89526",
   "metadata": {},
   "outputs": [],
   "source": [
    "from sklearn.metrics import r2_score"
   ]
  },
  {
   "cell_type": "code",
   "execution_count": 94,
   "id": "325a2cce",
   "metadata": {},
   "outputs": [
    {
     "data": {
      "text/plain": [
       "0.7681105472626018"
      ]
     },
     "execution_count": 94,
     "metadata": {},
     "output_type": "execute_result"
    }
   ],
   "source": [
    "\n",
    "r_squared = r2_score(y_test, y_test_pred)\n",
    "r_squared"
   ]
  },
  {
   "cell_type": "code",
   "execution_count": 95,
   "id": "3b3e109c",
   "metadata": {},
   "outputs": [
    {
     "data": {
      "image/png": "[encoded data removed]",
      "text/plain": [
       "<Figure size 432x288 with 1 Axes>"
      ]
     },
     "metadata": {
      "needs_background": "light"
     },
     "output_type": "display_data"
    }
   ],
   "source": [
    "plt.scatter(x_test, y_test)\n",
    "plt.plot(x_test, y_test_pred, 'r')\n",
    "plt.show()"
   ]
  },
  {
   "cell_type": "markdown",
   "id": "6226d299",
   "metadata": {},
   "source": [
    "# Implement linear regression using sklearn & performing F-test."
   ]
  },
  {
   "cell_type": "code",
   "execution_count": 96,
   "id": "fc25b22a",
   "metadata": {},
   "outputs": [],
   "source": [
    "from sklearn.linear_model import LinearRegression\n",
    "import scipy.stats"
   ]
  },
  {
   "cell_type": "markdown",
   "id": "6e8dccf5",
   "metadata": {},
   "source": [
    "We need to change it in array inorder to implement the linear regression using sklearn"
   ]
  },
  {
   "cell_type": "code",
   "execution_count": 97,
   "id": "7201d20f",
   "metadata": {},
   "outputs": [],
   "source": [
    "x = np.array(data['cgpa']).reshape(-1,1)\n",
    "y = np.array(data['package']).reshape(-1,1)"
   ]
  },
  {
   "cell_type": "code",
   "execution_count": 107,
   "id": "2ae09864",
   "metadata": {},
   "outputs": [
    {
     "name": "stdout",
     "output_type": "stream",
     "text": [
      "1.2307027499999998 0.5239514166666666\n"
     ]
    }
   ],
   "source": [
    "#To calculate the variance of X_test and Y_test\n",
    "\n",
    "print(np.var(x_test),np.var(y_test))"
   ]
  },
  {
   "cell_type": "markdown",
   "id": "fd5fd128",
   "metadata": {},
   "source": [
    "# F-test"
   ]
  },
  {
   "cell_type": "code",
   "execution_count": 108,
   "id": "d38f9474",
   "metadata": {},
   "outputs": [
    {
     "data": {
      "text/plain": [
       "(2.3906823712024523, 7.390233980331118e-10)"
      ]
     },
     "execution_count": 108,
     "metadata": {},
     "output_type": "execute_result"
    }
   ],
   "source": [
    "def f_test(x_test,y_test):\n",
    "    f = np.var(x_test, ddof=1)/np.var(y_test, ddof=1)\n",
    "    nun = x.size-1\n",
    "    dun = y.size-1\n",
    "    p_value = 1-scipy.stats.f.cdf(f, nun, dun)\n",
    "    return f,p_value\n",
    "\n",
    "#Performing the F-test\n",
    "\n",
    "f_test(x,y)"
   ]
  },
  {
   "cell_type": "code",
   "execution_count": 99,
   "id": "e1185d16",
   "metadata": {},
   "outputs": [],
   "source": [
    "x_train, x_test,y_train, y_test = train_test_split(x,y,random_state=None, test_size =0.3,shuffle = True)"
   ]
  },
  {
   "cell_type": "markdown",
   "id": "045f50fd",
   "metadata": {},
   "source": [
    "random_state takes the data in a random manner when given a value and won't change when we run the code again But when random_state = None it changes accordingly"
   ]
  },
  {
   "cell_type": "code",
   "execution_count": 100,
   "id": "65c30582",
   "metadata": {},
   "outputs": [],
   "source": [
    "model = LinearRegression()"
   ]
  },
  {
   "cell_type": "code",
   "execution_count": 101,
   "id": "8ac34b80",
   "metadata": {},
   "outputs": [
    {
     "data": {
      "text/plain": [
       "LinearRegression()"
      ]
     },
     "execution_count": 101,
     "metadata": {},
     "output_type": "execute_result"
    }
   ],
   "source": [
    "model.fit(x_train,y_train)"
   ]
  },
  {
   "cell_type": "code",
   "execution_count": 102,
   "id": "db03c6e9",
   "metadata": {},
   "outputs": [],
   "source": [
    "y_predict = model.predict(x_test)"
   ]
  },
  {
   "cell_type": "code",
   "execution_count": 103,
   "id": "5988a667",
   "metadata": {},
   "outputs": [
    {
     "data": {
      "text/plain": [
       "[<matplotlib.lines.Line2D at 0x2507698cdf0>]"
      ]
     },
     "execution_count": 103,
     "metadata": {},
     "output_type": "execute_result"
    },
    {
     "data": {
      "image/png": "[encoded data removed]",
      "text/plain": [
       "<Figure size 432x288 with 1 Axes>"
      ]
     },
     "metadata": {
      "needs_background": "light"
     },
     "output_type": "display_data"
    }
   ],
   "source": [
    "plt.scatter(x_test,y_test)\n",
    "plt.plot(x_test,y_predict)"
   ]
  },
  {
   "cell_type": "code",
   "execution_count": 104,
   "id": "2e6ea0e7",
   "metadata": {},
   "outputs": [
    {
     "data": {
      "text/plain": [
       "0.7844650348334683"
      ]
     },
     "execution_count": 104,
     "metadata": {},
     "output_type": "execute_result"
    }
   ],
   "source": [
    "model.score(x_test,y_test)"
   ]
  },
  {
   "cell_type": "markdown",
   "id": "8e5fa318",
   "metadata": {},
   "source": [
    "score in linear regression is used to caclculate the accuracy of the model score calculates R^2 which is a metric of Cost function"
   ]
  },
  {
   "cell_type": "markdown",
   "id": "34b75e6b",
   "metadata": {},
   "source": [
    "# We are calculating the MSE.\n",
    "\n",
    "This shows the minimized error"
   ]
  },
  {
   "cell_type": "code",
   "execution_count": 105,
   "id": "1ea36e2a",
   "metadata": {},
   "outputs": [],
   "source": [
    "from sklearn.metrics import mean_squared_error"
   ]
  },
  {
   "cell_type": "code",
   "execution_count": 106,
   "id": "89a6f04e",
   "metadata": {},
   "outputs": [
    {
     "data": {
      "text/plain": [
       "0.11292985034020496"
      ]
     },
     "execution_count": 106,
     "metadata": {},
     "output_type": "execute_result"
    }
   ],
   "source": [
    "mean_squared_error(y_test, y_predict)"
   ]
  },
  {
   "cell_type": "markdown",
   "id": "75cf4cc6",
   "metadata": {},
   "source": [
    "# Conclusion"
   ]
  },
  {
   "cell_type": "markdown",
   "id": "4cb84813",
   "metadata": {},
   "source": [
    "Here, we taken a dataset about the placement cell regarding cgpa and packages. And also we've tested the data with the followings, histogram,box plot,scatter plot and the info of our data (EDA) and we further proceed with train_test_split, model building,Visualising the fitted line to train dataset and prediction using test dataset."
   ]
  }
 ],
 "metadata": {
  "kernelspec": {
   "display_name": "Python 3 (ipykernel)",
   "language": "python",
   "name": "python3"
  },
  "language_info": {
   "codemirror_mode": {
    "name": "ipython",
    "version": 3
   },
   "file_extension": ".py",
   "mimetype": "text/x-python",
   "name": "python",
   "nbconvert_exporter": "python",
   "pygments_lexer": "ipython3",
   "version": "3.9.12"
  }
 },
 "nbformat": 4,
 "nbformat_minor": 5
}
